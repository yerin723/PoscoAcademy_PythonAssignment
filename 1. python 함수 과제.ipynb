{
 "cells": [
  {
   "cell_type": "markdown",
   "id": "84e3d7ee",
   "metadata": {},
   "source": [
    "# 0502 함수 실습 1\n",
    "len()함수를 구현하시오. (단, len()을 사용하지 않고 구현할 것)"
   ]
  },
  {
   "cell_type": "code",
   "execution_count": 257,
   "id": "f8dfa154",
   "metadata": {},
   "outputs": [
    {
     "name": "stdout",
     "output_type": "stream",
     "text": [
      "6 14\n",
      "6 14\n"
     ]
    }
   ],
   "source": [
    "#함수 정의\n",
    "def my_len(x):\n",
    "    length = 0\n",
    "    for i in x:\n",
    "        length += 1\n",
    "    return length\n",
    "\n",
    "#함수 호출\n",
    "a = [5, 5, 6, 7, 8, 3]\n",
    "b = 'Life is short.'\n",
    "print(len(a), len(b)) #내장 함수 len\n",
    "print(my_len(a), my_len(b)) #my_len()"
   ]
  },
  {
   "cell_type": "markdown",
   "id": "af5773b7",
   "metadata": {},
   "source": [
    "# 0502 함수 실습 2\n",
    "양의 정수 a와 b를 전달받아 a부터 b까지 곱해서 반환하는 mult 함수를 작성하시오."
   ]
  },
  {
   "cell_type": "code",
   "execution_count": 266,
   "id": "f6e7e71b",
   "metadata": {},
   "outputs": [
    {
     "name": "stdout",
     "output_type": "stream",
     "text": [
      "6\n",
      "120\n"
     ]
    }
   ],
   "source": [
    "#함수 정의\n",
    "def mult(a, b):\n",
    "    result = 1\n",
    "    for i in range(a, b+1):\n",
    "        result = result * i\n",
    "    return result\n",
    "\n",
    "#함수 호출\n",
    "print(mult(1, 3))\n",
    "print(mult(2, 5))\n"
   ]
  },
  {
   "cell_type": "markdown",
   "id": "ceccf09c",
   "metadata": {},
   "source": [
    "# 0502 함수 실습 3\n",
    "숫자로 구성된 리스트를 전달받아, 리스트에서 양수 값을 더한 결과와 음수 결과를 더한 결과를 반환하는 함수를 작성하시오."
   ]
  },
  {
   "cell_type": "code",
   "execution_count": 267,
   "id": "2d488ab5",
   "metadata": {},
   "outputs": [
    {
     "name": "stdout",
     "output_type": "stream",
     "text": [
      "7 -9\n",
      "1 -1\n"
     ]
    }
   ],
   "source": [
    "#함수 정의\n",
    "def sum_pos_neg(l):\n",
    "    possum = 0\n",
    "    negsum = 0\n",
    "    for i in l:\n",
    "        if i > 0:\n",
    "            possum += i\n",
    "        elif i < 0:\n",
    "            negsum += i\n",
    "        else:\n",
    "            pass\n",
    "    return possum, negsum\n",
    "\n",
    "#함수 호출\n",
    "possum, negsum = sum_pos_neg([3, 4, -6, -3])\n",
    "print(possum, negsum) \n",
    "mylist = [0, 0, 0, 0, 0, 0, 0, 0, 0, 1, -1]\n",
    "possum2, negsum2 = sum_pos_neg(mylist)\n",
    "print(possum2, negsum2)"
   ]
  },
  {
   "cell_type": "markdown",
   "id": "1ccf928c",
   "metadata": {},
   "source": [
    "# 0502 함수 실습 4\n",
    "1개 이상의 2차원 벡터들을 전달받아 벡터들의 합을 구하여 반환하는 함수를 작성하시오."
   ]
  },
  {
   "cell_type": "code",
   "execution_count": 269,
   "id": "7ab16d70",
   "metadata": {},
   "outputs": [
    {
     "name": "stdout",
     "output_type": "stream",
     "text": [
      "[1.5, 1.5] [7.5, 5.5] [4.13, 2.72]\n"
     ]
    }
   ],
   "source": [
    "#함수 정의\n",
    "def vector_sum(vector, *vectors):\n",
    "    ret = [vector[0], vector[1]]\n",
    "    for v in vectors:\n",
    "        ret[0] += v[0] #현재 벡터 v의 x좌표를 ret의 x좌표에 더한다.\n",
    "        ret[1] += v[1] #현재 벡터 v의 y좌표를 ret의 y좌표에 더한다.\n",
    "    return ret\n",
    "\n",
    "#함수 호출\n",
    "v1 = [0, 1]\n",
    "v2 = [0.5, 0.5]\n",
    "v3 = [1, 0]\n",
    "v4 = [6, 4]\n",
    "v5 = [3.13, 2.72]\n",
    "m1 = vector_sum(v1, v2, v3)\n",
    "m2 = vector_sum(v1, v2, v3, v4)\n",
    "m3 = vector_sum(v3, v5)\n",
    "print(m1, m2, m3) "
   ]
  },
  {
   "cell_type": "markdown",
   "id": "687a97fb",
   "metadata": {},
   "source": [
    "# 0502 함수 실습 5\n",
    "- 숫자로 구성된 리스트 2개를 받아서 이 두 리스트를 합친 후에 정렬한 새로운 리스트를 반환하는 함수를 작성하시오.\n",
    "- 단, 매개변수의 값이 주어지지 않으면 [0]이 기본적으로 주어진다."
   ]
  },
  {
   "cell_type": "code",
   "execution_count": 264,
   "id": "5c060d68",
   "metadata": {},
   "outputs": [
    {
     "name": "stdout",
     "output_type": "stream",
     "text": [
      "[1, 1, 2, 2, 3, 5, 9]\n",
      "[0, 4, 6, 9]\n",
      "[0, 0]\n"
     ]
    }
   ],
   "source": [
    "#함수 정의\n",
    "def merge_list(n1=[0], n2=[0]):\n",
    "    return sorted(n1 + n2)\n",
    "\n",
    "#함수 호출\n",
    "l = [3, 5, 9, 1, 2]\n",
    "ml1 = merge_list(l, [1,2])\n",
    "ml2 = merge_list([6,9,4])\n",
    "ml3 = merge_list()\n",
    "\n",
    "print(ml1)\n",
    "print(ml2)\n",
    "print(ml3)"
   ]
  },
  {
   "cell_type": "markdown",
   "id": "4fadc982",
   "metadata": {},
   "source": [
    "# 0502 함수 실습 6\n",
    "로또 번호 자동 기입 프로그램을 작성하시오.\n",
    "- 5개의 로또 번호 조합을 출력해주는 프로그램을 작성하라.\n",
    "- 매번 1~45 숫자 중 6개를 임의로 선택 후 정렬하여 출력하여야 한다.\n",
    "- 단, 각 줄은 중복된 번호를 가질 수 없다."
   ]
  },
  {
   "cell_type": "code",
   "execution_count": 271,
   "id": "b76df477",
   "metadata": {},
   "outputs": [
    {
     "name": "stdout",
     "output_type": "stream",
     "text": [
      "** 로또 번호 자동 기입을 시작합니다 **\n",
      "1번째 자동 기입 ==> 11 13 20 24 31 42\n",
      "2번째 자동 기입 ==> 7 14 21 22 27 29\n",
      "3번째 자동 기입 ==> 5 11 20 32 33 34\n",
      "4번째 자동 기입 ==> 4 11 17 20 24 37\n",
      "5번째 자동 기입 ==> 5 24 29 30 35 38\n"
     ]
    }
   ],
   "source": [
    "print('** 로또 번호 자동 기입을 시작합니다 **')\n",
    "import random #random 모듈을 이용하여 난수 생성\n",
    "for i in range(1, 6):\n",
    "    num_list = list(range(1, 46)) #1부터 45개까지의 숫자를 갖는 리스트\n",
    "    lotto = random.sample(num_list, 6) #무작위로 6개의 숫자 뽑아서 초기화\n",
    "    print('{}번째 자동 기입 ==>'.format(i),*sorted(lotto))"
   ]
  },
  {
   "cell_type": "markdown",
   "id": "db5c297f",
   "metadata": {},
   "source": [
    "# 0502 함수 실습 7\n",
    "- 숫자로 구성된 리스트를 전달받아 최댓값, 최솟값을 반환하고, 두 수를 리스트에서 제거하는 함수를 작성하시오.\n",
    "- 단, 리스트에서 원소는 2개 이상 존재한다고 가정한다."
   ]
  },
  {
   "cell_type": "code",
   "execution_count": 273,
   "id": "33673a60",
   "metadata": {},
   "outputs": [
    {
     "name": "stdout",
     "output_type": "stream",
     "text": [
      "1\n",
      "9\n",
      "[3, 5, 2]\n"
     ]
    }
   ],
   "source": [
    "#함수 정의\n",
    "def get_min_max(l):\n",
    "    min_val = min(l)\n",
    "    max_val = max(l)\n",
    "    l.remove(min_val)\n",
    "    l.remove(max_val)\n",
    "    return min_val, max_val\n",
    "\n",
    "#힘수 호출\n",
    "l = [3, 5, 9, 1, 2]\n",
    "min_val, max_val = get_min_max(l)\n",
    "\n",
    "print(min_val)\n",
    "print(max_val)\n",
    "print(l) #l은 리스트로 mutable한 자료형이기 때문에 함수 내에서 값을 변경하면, 함수 호출 이후에도 값이 변경된 채 유지된다."
   ]
  },
  {
   "cell_type": "markdown",
   "id": "8a36dbfb",
   "metadata": {},
   "source": [
    "# 0502 함수 실습 8\n",
    "두 딕셔너리를 전달받아 각 딕셔너리에 등장한 값을 모두 더한 새로운 딕셔너리를 반환하는 함수 comb_dict()를 작성하시오."
   ]
  },
  {
   "cell_type": "code",
   "execution_count": 276,
   "id": "74b6076a",
   "metadata": {},
   "outputs": [
    {
     "name": "stdout",
     "output_type": "stream",
     "text": [
      "{'a': 3, 'b': 3, 'd': 7, 'e': 9, 'c': 4}\n"
     ]
    }
   ],
   "source": [
    "#함수 정의\n",
    "import copy\n",
    "def comb_dict(d1, d2):\n",
    "    ret = copy.deepcopy(d1) #깊은 복사 - 기존 d1의 값이 변경되지 않음\n",
    "    for k, v in list(d2.items()):\n",
    "        if k in ret:\n",
    "            ret[k] += v\n",
    "        else:\n",
    "            ret[k] = v\n",
    "    return ret\n",
    "\n",
    "#함수 호출\n",
    "d1 = {'a': 1, 'b': 3, 'd' : 7, 'e': 8}\n",
    "d2 = {'a' : 2, 'c': 4, 'e' : 1}\n",
    "d3 = comb_dict(d1, d2)\n",
    "print(d3)"
   ]
  },
  {
   "cell_type": "markdown",
   "id": "0a8f947c",
   "metadata": {},
   "source": [
    "# 0502 함수 실습 9\n",
    "숫자를 2개 이상 입력 받아, 최댓값과 최솟값의 차를 반환하는 함수를 작성하시오."
   ]
  },
  {
   "cell_type": "code",
   "execution_count": 279,
   "id": "e8a748f6",
   "metadata": {},
   "outputs": [
    {
     "name": "stdout",
     "output_type": "stream",
     "text": [
      "4\n",
      "300\n"
     ]
    }
   ],
   "source": [
    "#함수 정의\n",
    "def diff(n1, n2, *n):\n",
    "    l = list(n) + [n1, n2]\n",
    "    return max(l) - min(l)\n",
    "\n",
    "#함수 호출\n",
    "print(diff(1, 2, 3, 4, 5))\n",
    "print(diff(-100, 200))\n",
    "#print(diff(1)) # 오류 발생"
   ]
  }
 ],
 "metadata": {
  "kernelspec": {
   "display_name": "Python [conda env:piai]",
   "language": "python",
   "name": "conda-env-piai-py"
  },
  "language_info": {
   "codemirror_mode": {
    "name": "ipython",
    "version": 3
   },
   "file_extension": ".py",
   "mimetype": "text/x-python",
   "name": "python",
   "nbconvert_exporter": "python",
   "pygments_lexer": "ipython3",
   "version": "3.10.11"
  }
 },
 "nbformat": 4,
 "nbformat_minor": 5
}
